{
 "cells": [
  {
   "cell_type": "markdown",
   "id": "f91a56cc",
   "metadata": {},
   "source": [
    "# OpenCv Face Detection\n",
    "This code performs real-time face detection using the Haar cascade classifier in OpenCV. It captures frames from the default camera using cv2.VideoCapture(0). Each frame is converted to grayscale using cv2.cvtColor() for face detection. The cascade classifier is then applied to the grayscale frame using cascade_classifier.detectMultiScale() to detect faces.\n",
    "\n",
    "If a face is detected, a bounding box is drawn around it using cv2.rectangle(), and the label \"Face\" is displayed above the bounding box using cv2.putText(). The code also appends the ground truth label (assuming all detections are faces) and the predicted label (always 1 for detected faces) to calculate accuracy metrics later."
   ]
  },
  {
   "cell_type": "code",
   "execution_count": null,
   "id": "3e54ff90",
   "metadata": {},
   "outputs": [],
   "source": []
  },
  {
   "cell_type": "code",
   "execution_count": 59,
   "id": "196efe3e",
   "metadata": {},
   "outputs": [
    {
     "name": "stderr",
     "output_type": "stream",
     "text": [
      "[ WARN:0@6223.569] global /private/var/folders/nz/j6p8yfhx1mv_0grj5xl4650h0000gp/T/abs_d9lyif19nl/croot/opencv-suite_1676472756314/work/modules/videoio/src/cap_gstreamer.cpp (862) isPipelinePlaying OpenCV | GStreamer warning: GStreamer: pipeline have not been created\n"
     ]
    },
    {
     "name": "stdout",
     "output_type": "stream",
     "text": [
      "Accuracy: 1.00\n",
      "Precision: 1.00\n",
      "Recall: 1.00\n"
     ]
    }
   ],
   "source": [
    "import cv2\n",
    "import numpy as np\n",
    "from sklearn.metrics import accuracy_score, precision_score, recall_score\n",
    "\n",
    "# Load the face cascade classifier\n",
    "cascade_classifier = cv2.CascadeClassifier('/Users/nikhil/Downloads/Face Recognition System/haarcascade_frontalface_default.xml')\n",
    "\n",
    "# Initialize the video capture\n",
    "cap = cv2.VideoCapture(0)\n",
    "\n",
    "# Initialize variables for accuracy metrics\n",
    "ground_truth_labels = []\n",
    "predicted_labels = []\n",
    "\n",
    "while True:\n",
    "    # Capture frame-by-frame\n",
    "    ret, frame = cap.read()\n",
    "\n",
    "    # Convert the frame to grayscale for face detection\n",
    "    gray = cv2.cvtColor(frame, cv2.COLOR_BGR2GRAY)\n",
    "\n",
    "    # Perform face detection using cascade classifier\n",
    "    detections = cascade_classifier.detectMultiScale(gray, scaleFactor=1.3, minNeighbors=5)\n",
    "\n",
    "    if len(detections) > 0:\n",
    "        (x, y, w, h) = detections[0]\n",
    "        frame = cv2.rectangle(frame, (x, y), (x + w, y + h), (255, 0, 0), 2)\n",
    "        cv2.putText(frame, 'Face', (x, y-10), cv2.FONT_HERSHEY_SIMPLEX, 0.9, (0, 255, 0), 2)\n",
    "        # Append the ground truth and predicted labels\n",
    "        ground_truth_labels.append(1)  # Assuming all detections are faces\n",
    "        predicted_labels.append(1)\n",
    "\n",
    "    # Display the resulting frame\n",
    "    cv2.imshow('frame', frame)\n",
    "\n",
    "    # Break the loop if 'q' is pressed\n",
    "    if cv2.waitKey(1) & 0xFF == ord('q'):\n",
    "        break\n",
    "\n",
    "# Calculate accuracy metrics\n",
    "ground_truth_labels = np.array(ground_truth_labels)\n",
    "predicted_labels = np.array(predicted_labels)\n",
    "\n",
    "accuracy = accuracy_score(ground_truth_labels, predicted_labels)\n",
    "precision = precision_score(ground_truth_labels, predicted_labels)\n",
    "recall = recall_score(ground_truth_labels, predicted_labels)\n",
    "\n",
    "print(f'Accuracy: {accuracy:.2f}')\n",
    "print(f'Precision: {precision:.2f}')\n",
    "print(f'Recall: {recall:.2f}')\n",
    "\n",
    "# Release the video capture and close the OpenCV windows\n",
    "cap.release()\n",
    "cv2.destroyAllWindows()\n"
   ]
  },
  {
   "cell_type": "code",
   "execution_count": null,
   "id": "3c9e758e",
   "metadata": {},
   "outputs": [],
   "source": []
  }
 ],
 "metadata": {
  "kernelspec": {
   "display_name": "Python 3 (ipykernel)",
   "language": "python",
   "name": "python3"
  },
  "language_info": {
   "codemirror_mode": {
    "name": "ipython",
    "version": 3
   },
   "file_extension": ".py",
   "mimetype": "text/x-python",
   "name": "python",
   "nbconvert_exporter": "python",
   "pygments_lexer": "ipython3",
   "version": "3.10.9"
  }
 },
 "nbformat": 4,
 "nbformat_minor": 5
}
